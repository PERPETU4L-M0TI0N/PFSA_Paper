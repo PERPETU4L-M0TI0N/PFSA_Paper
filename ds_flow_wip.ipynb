{
 "cells": [
  {
   "cell_type": "code",
   "execution_count": null,
   "metadata": {
    "collapsed": true,
    "pycharm": {
     "is_executing": true
    }
   },
   "outputs": [],
   "source": []
  },
  {
   "cell_type": "code",
   "execution_count": 10,
   "outputs": [],
   "source": [
    "from typing import List\n",
    "import pandas as pd"
   ],
   "metadata": {
    "collapsed": false
   }
  },
  {
   "cell_type": "code",
   "execution_count": 2,
   "outputs": [
    {
     "name": "stderr",
     "output_type": "stream",
     "text": [
      "/Users/danielschweigert/PycharmProjects/2024-ionomer-analysis/venv/lib/python3.11/site-packages/openpyxl/worksheet/_reader.py:329: UserWarning: Unknown extension is not supported and will be removed\n",
      "  warn(msg)\n",
      "/Users/danielschweigert/PycharmProjects/2024-ionomer-analysis/venv/lib/python3.11/site-packages/openpyxl/worksheet/_reader.py:329: UserWarning: Conditional Formatting extension is not supported and will be removed\n",
      "  warn(msg)\n"
     ]
    }
   ],
   "source": [
    "dvs_data = pd.read_excel('./data/ChemRev_Hydration_Data.xlsx', sheet_name='HydrationData',usecols = 'A:R')   #importing experimental data"
   ],
   "metadata": {
    "collapsed": false
   }
  },
  {
   "cell_type": "code",
   "execution_count": 3,
   "outputs": [
    {
     "data": {
      "text/plain": "     Study  Year Membrane    EW Cast  Cast_id  Thickness  PT  Drying_Temp  \\\n0  Alberti  2008     N117  1100  Ext        1      175.0   1          120   \n1  Alberti  2008     N117  1100  Ext        1      175.0   1          120   \n2  Alberti  2008     N117  1100  Ext        1      175.0   1          120   \n3  Alberti  2008     N117  1100  Ext        1      175.0   1          120   \n4  Alberti  2008     N117  1100  Ext        1      175.0   1          120   \n\n   Pret_Time  Temperature LV  LV_id   RH_r     RH  lambda  ChemPotential  \\\n0       15.0         20.0  L    1.0  100.1  100.1    12.4   11220.638568   \n1       15.0         40.0  L    1.0  100.1  100.1    13.2   11986.552464   \n2       15.0         60.0  L    1.0  100.1  100.1    14.0   12752.466359   \n3       15.0         70.0  L    1.0  100.1  100.1    12.7   13135.423307   \n4       15.0         80.0  L    1.0  100.1  100.1    15.4   13518.380255   \n\n   Equilibrium_hr  \n0             1.0  \n1             1.0  \n2             1.0  \n3             1.0  \n4             1.0  ",
      "text/html": "<div>\n<style scoped>\n    .dataframe tbody tr th:only-of-type {\n        vertical-align: middle;\n    }\n\n    .dataframe tbody tr th {\n        vertical-align: top;\n    }\n\n    .dataframe thead th {\n        text-align: right;\n    }\n</style>\n<table border=\"1\" class=\"dataframe\">\n  <thead>\n    <tr style=\"text-align: right;\">\n      <th></th>\n      <th>Study</th>\n      <th>Year</th>\n      <th>Membrane</th>\n      <th>EW</th>\n      <th>Cast</th>\n      <th>Cast_id</th>\n      <th>Thickness</th>\n      <th>PT</th>\n      <th>Drying_Temp</th>\n      <th>Pret_Time</th>\n      <th>Temperature</th>\n      <th>LV</th>\n      <th>LV_id</th>\n      <th>RH_r</th>\n      <th>RH</th>\n      <th>lambda</th>\n      <th>ChemPotential</th>\n      <th>Equilibrium_hr</th>\n    </tr>\n  </thead>\n  <tbody>\n    <tr>\n      <th>0</th>\n      <td>Alberti</td>\n      <td>2008</td>\n      <td>N117</td>\n      <td>1100</td>\n      <td>Ext</td>\n      <td>1</td>\n      <td>175.0</td>\n      <td>1</td>\n      <td>120</td>\n      <td>15.0</td>\n      <td>20.0</td>\n      <td>L</td>\n      <td>1.0</td>\n      <td>100.1</td>\n      <td>100.1</td>\n      <td>12.4</td>\n      <td>11220.638568</td>\n      <td>1.0</td>\n    </tr>\n    <tr>\n      <th>1</th>\n      <td>Alberti</td>\n      <td>2008</td>\n      <td>N117</td>\n      <td>1100</td>\n      <td>Ext</td>\n      <td>1</td>\n      <td>175.0</td>\n      <td>1</td>\n      <td>120</td>\n      <td>15.0</td>\n      <td>40.0</td>\n      <td>L</td>\n      <td>1.0</td>\n      <td>100.1</td>\n      <td>100.1</td>\n      <td>13.2</td>\n      <td>11986.552464</td>\n      <td>1.0</td>\n    </tr>\n    <tr>\n      <th>2</th>\n      <td>Alberti</td>\n      <td>2008</td>\n      <td>N117</td>\n      <td>1100</td>\n      <td>Ext</td>\n      <td>1</td>\n      <td>175.0</td>\n      <td>1</td>\n      <td>120</td>\n      <td>15.0</td>\n      <td>60.0</td>\n      <td>L</td>\n      <td>1.0</td>\n      <td>100.1</td>\n      <td>100.1</td>\n      <td>14.0</td>\n      <td>12752.466359</td>\n      <td>1.0</td>\n    </tr>\n    <tr>\n      <th>3</th>\n      <td>Alberti</td>\n      <td>2008</td>\n      <td>N117</td>\n      <td>1100</td>\n      <td>Ext</td>\n      <td>1</td>\n      <td>175.0</td>\n      <td>1</td>\n      <td>120</td>\n      <td>15.0</td>\n      <td>70.0</td>\n      <td>L</td>\n      <td>1.0</td>\n      <td>100.1</td>\n      <td>100.1</td>\n      <td>12.7</td>\n      <td>13135.423307</td>\n      <td>1.0</td>\n    </tr>\n    <tr>\n      <th>4</th>\n      <td>Alberti</td>\n      <td>2008</td>\n      <td>N117</td>\n      <td>1100</td>\n      <td>Ext</td>\n      <td>1</td>\n      <td>175.0</td>\n      <td>1</td>\n      <td>120</td>\n      <td>15.0</td>\n      <td>80.0</td>\n      <td>L</td>\n      <td>1.0</td>\n      <td>100.1</td>\n      <td>100.1</td>\n      <td>15.4</td>\n      <td>13518.380255</td>\n      <td>1.0</td>\n    </tr>\n  </tbody>\n</table>\n</div>"
     },
     "execution_count": 3,
     "metadata": {},
     "output_type": "execute_result"
    }
   ],
   "source": [
    "dvs_data.head()"
   ],
   "metadata": {
    "collapsed": false
   }
  },
  {
   "cell_type": "markdown",
   "source": [
    "### Filter down to relevant data"
   ],
   "metadata": {
    "collapsed": false
   }
  },
  {
   "cell_type": "code",
   "execution_count": 4,
   "outputs": [],
   "source": [
    "# desciption: why filtered out: ...\n",
    "\n",
    "not_include = ['Cast','LV','RH_r','Pret_Time']\n",
    "df = dvs_data.query('Study != \"Alberti\" and EW == 1100')\n",
    "df = dvs_data.drop(not_include, axis=1)\n",
    "df = df[df['Thickness'].notnull()]"
   ],
   "metadata": {
    "collapsed": false
   }
  },
  {
   "cell_type": "code",
   "execution_count": 6,
   "outputs": [
    {
     "name": "stdout",
     "output_type": "stream",
     "text": [
      "dataset 1:  (784, 13)\n",
      "dataset 1_l:  (242, 13)\n",
      "dataset 1_v:  (505, 13)\n"
     ]
    },
    {
     "name": "stderr",
     "output_type": "stream",
     "text": [
      "/var/folders/bx/gzbw6rqj1_dg2cswsj6km8_80000gq/T/ipykernel_64029/3935855.py:8: SettingWithCopyWarning: \n",
      "A value is trying to be set on a copy of a slice from a DataFrame.\n",
      "Try using .loc[row_indexer,col_indexer] = value instead\n",
      "\n",
      "See the caveats in the documentation: https://pandas.pydata.org/pandas-docs/stable/user_guide/indexing.html#returning-a-view-versus-a-copy\n",
      "  df_1_l['RH'] = df_1_l['RH'].replace(100.1,100)\n"
     ]
    }
   ],
   "source": [
    "# subset 1\n",
    "# description: remove equilibrium_hr column, divide in liquid and vapor\n",
    "df_1_columns = df.columns.values.tolist()\n",
    "df_1_columns.remove('Equilibrium_hr')\n",
    "df_1 = df[df_1_columns]\n",
    "print('dataset 1: ', df_1.shape)\n",
    "df_1_l = df_1[df_1['LV_id']==1]\n",
    "df_1_l['RH'] = df_1_l['RH'].replace(100.1,100)\n",
    "df_1_v = df_1[df_1['LV_id']==0]\n",
    "print('dataset 1_l: ', df_1_l.shape)\n",
    "print('dataset 1_v: ', df_1_v.shape)"
   ],
   "metadata": {
    "collapsed": false
   }
  },
  {
   "cell_type": "code",
   "execution_count": 7,
   "outputs": [
    {
     "name": "stdout",
     "output_type": "stream",
     "text": [
      "dataset 2:  (617, 14)\n",
      "dataset 2_l:  (215, 14)\n",
      "dataset 2_v:  (365, 14)\n"
     ]
    }
   ],
   "source": [
    "# subset 2\n",
    "# description: non-null Equilibrium_hr data, divide in liquid and vapor\n",
    "df_2 = df[df['Equilibrium_hr'].notnull()]\n",
    "print('dataset 2: ', df_2.shape)\n",
    "df_2_l = df_2[df_2['LV_id']==1]\n",
    "df_2_v = df_2[df_2['LV_id']==0]\n",
    "print('dataset 2_l: ', df_2_l.shape)\n",
    "print('dataset 2_v: ', df_2_v.shape)"
   ],
   "metadata": {
    "collapsed": false
   }
  },
  {
   "cell_type": "markdown",
   "source": [],
   "metadata": {
    "collapsed": false
   }
  },
  {
   "cell_type": "markdown",
   "source": [
    "### Question 1:\n",
    "#### Can we fit a model on material properties and processing conditions to predict performance metric delta lambda?"
   ],
   "metadata": {
    "collapsed": false
   }
  },
  {
   "cell_type": "code",
   "execution_count": 9,
   "outputs": [],
   "source": [
    "material_properties = ['Thickness']\n",
    "processing_conditions = ['PT', 'Cast_id', 'Drying_Temp', 'Equilibrium_hr']\n",
    "operating_conditions = ['Temperature']\n",
    "predictors = material_properties + processing_conditions + operating_conditions"
   ],
   "metadata": {
    "collapsed": false
   }
  },
  {
   "cell_type": "code",
   "execution_count": 11,
   "outputs": [],
   "source": [
    "def compute_performance_metric_delta_lambda(df: pd.DataFrame, predictors: List[str]) -> pd.DataFrame:\n",
    "    \"\"\"\n",
    "    Input:\n",
    "    DataFrame with columns\n",
    "        ...predictors..., LV_id, RH, lambda\n",
    "\n",
    "    Output:\n",
    "        DataFrame with columns\n",
    "        ...predictors..., delta_lambda\n",
    "    \"\"\"\n",
    "    ...\n"
   ],
   "metadata": {
    "collapsed": false
   }
  },
  {
   "cell_type": "code",
   "execution_count": 44,
   "outputs": [
    {
     "name": "stdout",
     "output_type": "stream",
     "text": [
      "   A  B  LV_id   RH  lambda\n",
      "0  1  6      0   50       5\n",
      "1  2  7      1  100      15\n",
      "2  3  8      0   90      25\n",
      "3  4  4      1  100      35\n",
      "4  4  4      0  100      45\n",
      "----\n",
      "   A  B   RH  lambda_lv_0  lambda_lv_1\n",
      "0  1  6   50          5.0          NaN\n",
      "1  2  7  100          NaN         15.0\n",
      "2  3  8   90         25.0          NaN\n",
      "3  4  4  100         45.0         35.0\n"
     ]
    }
   ],
   "source": [
    "def unstack_liquid_vapor_datasets(df: pd.DataFrame, fixed_columns: List[str]) -> pd.DataFrame:\n",
    "    \"\"\"\n",
    "    Input DataFrame:\n",
    "        ...fixed_columns..., LV_id, lambda\n",
    "\n",
    "    Output DataFrame:\n",
    "        ...fixed_columns..., lambda_lv_0, lambda_lv_1\n",
    "\n",
    "    example for fixed_columns: [EW, Thickness, PT, Cast_id, Drying_Temp, Equilibrium_hr, Temperature, RH]\n",
    "    \"\"\"\n",
    "    df_wide = df.set_index(fixed_columns + ['LV_id']).unstack('LV_id')\n",
    "    df_wide.columns = [f'{col[0]}_lv_{col[1]}' for col in df_wide.columns]\n",
    "    df_wide = df_wide.reset_index()\n",
    "    return df_wide\n",
    "\n",
    "\n",
    "def test_unstack_liquid_vapor_datasets():\n",
    "\n",
    "    df = pd.DataFrame(\n",
    "        data={\n",
    "            'A': [1, 2, 3, 4, 4],\n",
    "            'B': [6, 7, 8, 4, 4],\n",
    "            'LV_id': [0, 1, 0, 1, 0],\n",
    "            'RH': [50, 100, 90, 100, 100],\n",
    "            'lambda': [5, 15, 25, 35, 45]\n",
    "        }\n",
    "    )\n",
    "\n",
    "    df_result = unstack_liquid_vapor_datasets(df=df, fixed_columns=['A', 'B', 'RH'])\n",
    "\n",
    "    print(df)\n",
    "\n",
    "    print('----')\n",
    "    print(df_result)\n",
    "\n",
    "\n",
    "test_unstack_liquid_vapor_datasets()\n",
    "\n"
   ],
   "metadata": {
    "collapsed": false
   }
  },
  {
   "cell_type": "code",
   "execution_count": null,
   "outputs": [],
   "source": [],
   "metadata": {
    "collapsed": false
   }
  }
 ],
 "metadata": {
  "kernelspec": {
   "display_name": "Python 3",
   "language": "python",
   "name": "python3"
  },
  "language_info": {
   "codemirror_mode": {
    "name": "ipython",
    "version": 2
   },
   "file_extension": ".py",
   "mimetype": "text/x-python",
   "name": "python",
   "nbconvert_exporter": "python",
   "pygments_lexer": "ipython2",
   "version": "2.7.6"
  }
 },
 "nbformat": 4,
 "nbformat_minor": 0
}
