{
 "cells": [
  {
   "cell_type": "code",
   "execution_count": null,
   "metadata": {
    "collapsed": true,
    "pycharm": {
     "is_executing": true
    },
    "ExecuteTime": {
     "end_time": "2024-02-22T21:24:54.496699815Z",
     "start_time": "2024-02-22T21:24:54.231055724Z"
    }
   },
   "outputs": [],
   "source": []
  },
  {
   "cell_type": "code",
   "execution_count": 1,
   "outputs": [
    {
     "name": "stderr",
     "output_type": "stream",
     "text": [
      "/tmp/ipykernel_197957/2873611465.py:4: DeprecationWarning: \n",
      "Pyarrow will become a required dependency of pandas in the next major release of pandas (pandas 3.0),\n",
      "(to allow more performant data types, such as the Arrow string type, and better interoperability with other libraries)\n",
      "but was not found to be installed on your system.\n",
      "If this would cause problems for you,\n",
      "please provide us feedback at https://github.com/pandas-dev/pandas/issues/54466\n",
      "        \n",
      "  import pandas as pd\n"
     ]
    }
   ],
   "source": [
    "from typing import List, Tuple, Type\n",
    "\n",
    "import numpy as np\n",
    "import pandas as pd\n",
    "from sklearn.impute import KNNImputer\n",
    "from sklearn.base import BaseEstimator\n",
    "from sklearn.ensemble import RandomForestRegressor\n",
    "from sklearn.model_selection import KFold\n",
    "from sklearn.model_selection import train_test_split\n",
    "import matplotlib.pyplot as plt"
   ],
   "metadata": {
    "collapsed": false,
    "ExecuteTime": {
     "end_time": "2024-02-22T21:24:57.128590589Z",
     "start_time": "2024-02-22T21:24:54.508045800Z"
    }
   }
  },
  {
   "cell_type": "code",
   "execution_count": 2,
   "outputs": [
    {
     "name": "stderr",
     "output_type": "stream",
     "text": [
      "/home/danielschweigert/PyCharmProjects/PFSA_Paper/venv/lib/python3.10/site-packages/openpyxl/worksheet/_reader.py:329: UserWarning: Unknown extension is not supported and will be removed\n",
      "  warn(msg)\n",
      "/home/danielschweigert/PyCharmProjects/PFSA_Paper/venv/lib/python3.10/site-packages/openpyxl/worksheet/_reader.py:329: UserWarning: Conditional Formatting extension is not supported and will be removed\n",
      "  warn(msg)\n"
     ]
    }
   ],
   "source": [
    "df = pd.read_excel('./data/ChemRev_Hydration_Data.xlsx', sheet_name='HydrationData',usecols = 'A:R')   #importing experimental data"
   ],
   "metadata": {
    "collapsed": false,
    "ExecuteTime": {
     "end_time": "2024-02-22T21:24:57.969421277Z",
     "start_time": "2024-02-22T21:24:57.130644Z"
    }
   }
  },
  {
   "cell_type": "code",
   "execution_count": 3,
   "outputs": [
    {
     "data": {
      "text/plain": "     Study  Year Membrane    EW Cast  Cast_id  Thickness  PT  Drying_Temp  \\\n0  Alberti  2008     N117  1100  Ext        1      175.0   1          120   \n1  Alberti  2008     N117  1100  Ext        1      175.0   1          120   \n2  Alberti  2008     N117  1100  Ext        1      175.0   1          120   \n3  Alberti  2008     N117  1100  Ext        1      175.0   1          120   \n4  Alberti  2008     N117  1100  Ext        1      175.0   1          120   \n\n   Pret_Time  Temperature LV  LV_id   RH_r     RH  lambda  ChemPotential  \\\n0       15.0         20.0  L    1.0  100.1  100.1    12.4   11220.638568   \n1       15.0         40.0  L    1.0  100.1  100.1    13.2   11986.552464   \n2       15.0         60.0  L    1.0  100.1  100.1    14.0   12752.466359   \n3       15.0         70.0  L    1.0  100.1  100.1    12.7   13135.423307   \n4       15.0         80.0  L    1.0  100.1  100.1    15.4   13518.380255   \n\n   Equilibrium_hr  \n0             1.0  \n1             1.0  \n2             1.0  \n3             1.0  \n4             1.0  ",
      "text/html": "<div>\n<style scoped>\n    .dataframe tbody tr th:only-of-type {\n        vertical-align: middle;\n    }\n\n    .dataframe tbody tr th {\n        vertical-align: top;\n    }\n\n    .dataframe thead th {\n        text-align: right;\n    }\n</style>\n<table border=\"1\" class=\"dataframe\">\n  <thead>\n    <tr style=\"text-align: right;\">\n      <th></th>\n      <th>Study</th>\n      <th>Year</th>\n      <th>Membrane</th>\n      <th>EW</th>\n      <th>Cast</th>\n      <th>Cast_id</th>\n      <th>Thickness</th>\n      <th>PT</th>\n      <th>Drying_Temp</th>\n      <th>Pret_Time</th>\n      <th>Temperature</th>\n      <th>LV</th>\n      <th>LV_id</th>\n      <th>RH_r</th>\n      <th>RH</th>\n      <th>lambda</th>\n      <th>ChemPotential</th>\n      <th>Equilibrium_hr</th>\n    </tr>\n  </thead>\n  <tbody>\n    <tr>\n      <th>0</th>\n      <td>Alberti</td>\n      <td>2008</td>\n      <td>N117</td>\n      <td>1100</td>\n      <td>Ext</td>\n      <td>1</td>\n      <td>175.0</td>\n      <td>1</td>\n      <td>120</td>\n      <td>15.0</td>\n      <td>20.0</td>\n      <td>L</td>\n      <td>1.0</td>\n      <td>100.1</td>\n      <td>100.1</td>\n      <td>12.4</td>\n      <td>11220.638568</td>\n      <td>1.0</td>\n    </tr>\n    <tr>\n      <th>1</th>\n      <td>Alberti</td>\n      <td>2008</td>\n      <td>N117</td>\n      <td>1100</td>\n      <td>Ext</td>\n      <td>1</td>\n      <td>175.0</td>\n      <td>1</td>\n      <td>120</td>\n      <td>15.0</td>\n      <td>40.0</td>\n      <td>L</td>\n      <td>1.0</td>\n      <td>100.1</td>\n      <td>100.1</td>\n      <td>13.2</td>\n      <td>11986.552464</td>\n      <td>1.0</td>\n    </tr>\n    <tr>\n      <th>2</th>\n      <td>Alberti</td>\n      <td>2008</td>\n      <td>N117</td>\n      <td>1100</td>\n      <td>Ext</td>\n      <td>1</td>\n      <td>175.0</td>\n      <td>1</td>\n      <td>120</td>\n      <td>15.0</td>\n      <td>60.0</td>\n      <td>L</td>\n      <td>1.0</td>\n      <td>100.1</td>\n      <td>100.1</td>\n      <td>14.0</td>\n      <td>12752.466359</td>\n      <td>1.0</td>\n    </tr>\n    <tr>\n      <th>3</th>\n      <td>Alberti</td>\n      <td>2008</td>\n      <td>N117</td>\n      <td>1100</td>\n      <td>Ext</td>\n      <td>1</td>\n      <td>175.0</td>\n      <td>1</td>\n      <td>120</td>\n      <td>15.0</td>\n      <td>70.0</td>\n      <td>L</td>\n      <td>1.0</td>\n      <td>100.1</td>\n      <td>100.1</td>\n      <td>12.7</td>\n      <td>13135.423307</td>\n      <td>1.0</td>\n    </tr>\n    <tr>\n      <th>4</th>\n      <td>Alberti</td>\n      <td>2008</td>\n      <td>N117</td>\n      <td>1100</td>\n      <td>Ext</td>\n      <td>1</td>\n      <td>175.0</td>\n      <td>1</td>\n      <td>120</td>\n      <td>15.0</td>\n      <td>80.0</td>\n      <td>L</td>\n      <td>1.0</td>\n      <td>100.1</td>\n      <td>100.1</td>\n      <td>15.4</td>\n      <td>13518.380255</td>\n      <td>1.0</td>\n    </tr>\n  </tbody>\n</table>\n</div>"
     },
     "execution_count": 3,
     "metadata": {},
     "output_type": "execute_result"
    }
   ],
   "source": [
    "df.head()"
   ],
   "metadata": {
    "collapsed": false,
    "ExecuteTime": {
     "end_time": "2024-02-22T21:24:58.070338324Z",
     "start_time": "2024-02-22T21:24:57.976999170Z"
    }
   }
  },
  {
   "cell_type": "markdown",
   "source": [
    "### Filter down to relevant data"
   ],
   "metadata": {
    "collapsed": false
   }
  },
  {
   "cell_type": "code",
   "execution_count": 4,
   "outputs": [],
   "source": [
    "# description: why filtered out: ...\n",
    "\n",
    "not_include = ['Cast','LV','RH_r','Pret_Time']\n",
    "df = df.query('Study != \"Alberti\" and EW == 1100')\n",
    "df = df.query('LV_id in (0, 1)')\n",
    "df['LV_id'] = df['LV_id'].astype(int)\n",
    "df = df.drop(not_include, axis=1)\n",
    "df = df[df['Thickness'].notnull()]"
   ],
   "metadata": {
    "collapsed": false,
    "ExecuteTime": {
     "end_time": "2024-02-22T21:24:58.119977392Z",
     "start_time": "2024-02-22T21:24:58.065178828Z"
    }
   }
  },
  {
   "cell_type": "code",
   "execution_count": 5,
   "outputs": [
    {
     "name": "stdout",
     "output_type": "stream",
     "text": [
      "dataset 1:  (613, 13)\n",
      "dataset 1_l:  (144, 13)\n",
      "dataset 1_v:  (469, 13)\n"
     ]
    },
    {
     "name": "stderr",
     "output_type": "stream",
     "text": [
      "/tmp/ipykernel_197957/3881678523.py:8: SettingWithCopyWarning: \n",
      "A value is trying to be set on a copy of a slice from a DataFrame.\n",
      "Try using .loc[row_indexer,col_indexer] = value instead\n",
      "\n",
      "See the caveats in the documentation: https://pandas.pydata.org/pandas-docs/stable/user_guide/indexing.html#returning-a-view-versus-a-copy\n",
      "  df_1_l['RH'] = df_1_l['RH'].replace(100.1,100)\n"
     ]
    }
   ],
   "source": [
    "# subset 1\n",
    "# description: remove equilibrium_hr column, divide in liquid and vapor\n",
    "df_1_columns = df.columns.values.tolist()\n",
    "df_1_columns.remove('Equilibrium_hr')\n",
    "df_1 = df[df_1_columns]\n",
    "print('dataset 1: ', df_1.shape)\n",
    "df_1_l = df_1[df_1['LV_id']==1]\n",
    "df_1_l['RH'] = df_1_l['RH'].replace(100.1,100)\n",
    "df_1_v = df_1[df_1['LV_id']==0]\n",
    "print('dataset 1_l: ', df_1_l.shape)\n",
    "print('dataset 1_v: ', df_1_v.shape)"
   ],
   "metadata": {
    "collapsed": false,
    "ExecuteTime": {
     "end_time": "2024-02-22T21:24:58.234955951Z",
     "start_time": "2024-02-22T21:24:58.087182777Z"
    }
   }
  },
  {
   "cell_type": "code",
   "execution_count": 6,
   "outputs": [
    {
     "name": "stdout",
     "output_type": "stream",
     "text": [
      "dataset 2:  (454, 14)\n",
      "dataset 2_l:  (117, 14)\n",
      "dataset 2_v:  (337, 14)\n"
     ]
    }
   ],
   "source": [
    "# subset 2\n",
    "# description: non-null Equilibrium_hr data, divide in liquid and vapor\n",
    "df_2 = df[df['Equilibrium_hr'].notnull()]\n",
    "print('dataset 2: ', df_2.shape)\n",
    "df_2_l = df_2[df_2['LV_id']==1]\n",
    "df_2_v = df_2[df_2['LV_id']==0]\n",
    "print('dataset 2_l: ', df_2_l.shape)\n",
    "print('dataset 2_v: ', df_2_v.shape)"
   ],
   "metadata": {
    "collapsed": false,
    "ExecuteTime": {
     "end_time": "2024-02-22T21:24:58.236936929Z",
     "start_time": "2024-02-22T21:24:58.119236768Z"
    }
   }
  },
  {
   "cell_type": "markdown",
   "source": [],
   "metadata": {
    "collapsed": false
   }
  },
  {
   "cell_type": "markdown",
   "source": [
    "### Question 1:\n",
    "#### Can we fit a model on material properties and processing conditions to predict performance metric delta lambda?"
   ],
   "metadata": {
    "collapsed": false
   }
  },
  {
   "cell_type": "code",
   "execution_count": 7,
   "outputs": [],
   "source": [
    "material_properties = ['Thickness']\n",
    "processing_conditions_1 = ['PT', 'Cast_id', 'Drying_Temp']\n",
    "processing_conditions_2 = ['PT', 'Cast_id', 'Drying_Temp', 'Equilibrium_hr']\n",
    "operating_conditions = ['Temperature']\n",
    "predictors_1 = material_properties + processing_conditions_1 + operating_conditions\n",
    "predictors_2 = material_properties + processing_conditions_2 + operating_conditions"
   ],
   "metadata": {
    "collapsed": false,
    "ExecuteTime": {
     "end_time": "2024-02-22T21:24:58.278630747Z",
     "start_time": "2024-02-22T21:24:58.119543340Z"
    }
   }
  },
  {
   "cell_type": "code",
   "execution_count": 8,
   "outputs": [],
   "source": [
    "def compute_performance_metric_delta_lambda(df: pd.DataFrame) -> pd.DataFrame:\n",
    "    \"\"\"\n",
    "    Input:\n",
    "    DataFrame with columns\n",
    "        ...predictors..., LV_id, RH, lambda\n",
    "\n",
    "    Output:\n",
    "        DataFrame with columns\n",
    "        ...predictors..., delta_lambda\n",
    "    \"\"\"\n",
    "    df = df[df['RH'] >= 95.0]\n",
    "    df['delta_lambda'] = df['lambda_lv_1'] - df['lambda_lv_0']\n",
    "    df['delta_lambda'] = df['delta_lambda'].apply(lambda x : 0 if x < 0 else x)\n",
    "    df.drop('RH', axis=1)\n",
    "    return df\n"
   ],
   "metadata": {
    "collapsed": false,
    "ExecuteTime": {
     "end_time": "2024-02-22T21:24:58.458083159Z",
     "start_time": "2024-02-22T21:24:58.119693413Z"
    }
   }
  },
  {
   "cell_type": "code",
   "execution_count": 9,
   "outputs": [
    {
     "name": "stdout",
     "output_type": "stream",
     "text": [
      "     A    B  LV_id   RH  lambda\n",
      "0  1.4  6.0      0   50       5\n",
      "1  2.0  7.0      1  100      15\n",
      "2  3.0  8.2      0   90      25\n",
      "3  4.0  4.0      1  100      35\n",
      "4  4.0  4.0      0  100      45\n",
      "5  5.0  5.0      1   99      40\n",
      "6  5.0  5.0      1   99      41\n",
      "----\n",
      "     A    B   RH  lambda_lv_0  lambda_lv_1\n",
      "0  1.4  6.0   50          5.0          NaN\n",
      "1  2.0  7.0  100          NaN         15.0\n",
      "2  3.0  8.2   90         25.0          NaN\n",
      "3  4.0  4.0  100         45.0         35.0\n",
      "4  5.0  5.0   99          NaN         40.5\n"
     ]
    }
   ],
   "source": [
    "def unstack_liquid_vapor_datasets(df: pd.DataFrame, fixed_columns: List[str]) -> pd.DataFrame:\n",
    "    \"\"\"\n",
    "    Input DataFrame:\n",
    "        ...fixed_columns..., LV_id, lambda\n",
    "\n",
    "    Output DataFrame:\n",
    "        ...fixed_columns..., lambda_lv_0, lambda_lv_1\n",
    "\n",
    "    example for fixed_columns: [EW, Thickness, PT, Cast_id, Drying_Temp, Equilibrium_hr, Temperature, RH]\n",
    "    \"\"\"\n",
    "    agg_columns = fixed_columns + ['LV_id']\n",
    "    df_agg = df[agg_columns + ['lambda']].groupby(agg_columns).mean()\n",
    "    df_agg = df_agg.drop_duplicates().reset_index()\n",
    "    df_wide = df_agg.set_index(fixed_columns + ['LV_id']).unstack('LV_id')\n",
    "    df_wide.columns = [f'{col[0]}_lv_{col[1]}' for col in df_wide.columns]\n",
    "    df_wide = df_wide.reset_index()\n",
    "    return df_wide\n",
    "\n",
    "\n",
    "def test_unstack_liquid_vapor_datasets():\n",
    "\n",
    "    df = pd.DataFrame(\n",
    "        data={\n",
    "            'A': [1.4, 2, 3, 4, 4, 5, 5],\n",
    "            'B': [6, 7, 8.2, 4, 4, 5, 5],\n",
    "            'LV_id': [0, 1, 0, 1, 0, 1, 1],\n",
    "            'RH': [50, 100, 90, 100, 100, 99, 99],\n",
    "            'lambda': [5, 15, 25, 35, 45, 40, 41]\n",
    "        }\n",
    "    )\n",
    "\n",
    "    df_result = unstack_liquid_vapor_datasets(df=df, fixed_columns=['A', 'B', 'RH'])\n",
    "\n",
    "    print(df)\n",
    "\n",
    "    print('----')\n",
    "    print(df_result)\n",
    "\n",
    "\n",
    "test_unstack_liquid_vapor_datasets()\n",
    "\n"
   ],
   "metadata": {
    "collapsed": false,
    "ExecuteTime": {
     "end_time": "2024-02-22T21:24:58.701718682Z",
     "start_time": "2024-02-22T21:24:58.163197657Z"
    }
   }
  },
  {
   "cell_type": "code",
   "execution_count": 10,
   "outputs": [],
   "source": [
    "def knn_impute(df: pd.DataFrame, exclude_columns: List, **params) -> pd.DataFrame:\n",
    "    \"\"\"\n",
    "    Perform KNN imputation while excluding specified columns.\n",
    "    \"\"\"\n",
    "    \n",
    "    qualifying_parameters = ['n_neighbors', 'weights']\n",
    "    knn_params = {k: params[k] for k in qualifying_parameters if k in params}\n",
    "    \n",
    "    knn_imputer = KNNImputer(**knn_params)\n",
    "    df_copy = df.copy()\n",
    "    # fit_columns = [_column for _column in df_copy.columns.values if _column not in exclude_columns]\n",
    "    df_copy = df_copy.drop(exclude_columns, axis=1)\n",
    "    \n",
    "    df_copy = pd.DataFrame(knn_imputer.fit_transform(df_copy), columns=df_copy.columns)\n",
    "    for _column in exclude_columns:\n",
    "        df_copy[_column] = df[_column]\n",
    "    \n",
    "    return df_copy"
   ],
   "metadata": {
    "collapsed": false,
    "ExecuteTime": {
     "end_time": "2024-02-22T21:24:58.703777073Z",
     "start_time": "2024-02-22T21:24:58.214202151Z"
    }
   }
  },
  {
   "cell_type": "code",
   "outputs": [],
   "source": [
    "def fit_regressor_model(df: pd.DataFrame, regressor_class: Type[BaseEstimator], y_column: str = 'delta_lambda') -> float:\n",
    "\n",
    "    y = df[y_column].values\n",
    "    x_columns = [_x for _x in df.columns.values if _x != y_column]\n",
    "    x = df[x_columns].values\n",
    "    rg = regressor_class()\n",
    "    kf = KFold(n_splits=3, shuffle=True, random_state=1)\n",
    "    scores = []\n",
    "    for _, (train_index, test_index) in enumerate(kf.split(x)):\n",
    "        x_train = x[train_index]\n",
    "        y_train = y[train_index]\n",
    "        x_test = x[test_index]\n",
    "        y_test = y[test_index]\n",
    "        rg.fit(x_train, y_train)\n",
    "        scores.append(rg.score(x_test, y_test))\n",
    "    return np.mean(scores)"
   ],
   "metadata": {
    "collapsed": false,
    "ExecuteTime": {
     "end_time": "2024-02-22T21:24:58.739040614Z",
     "start_time": "2024-02-22T21:24:58.218311207Z"
    }
   },
   "execution_count": 11
  },
  {
   "cell_type": "code",
   "outputs": [],
   "source": [
    "def evaluate_regressor_model(df: pd.DataFrame, regressor_class: Type[BaseEstimator], y_column: str = 'delta_lambda'):\n",
    "    \n",
    "    y = df[y_column].values\n",
    "    x_columns = [_x for _x in df.columns.values if _x != y_column]\n",
    "    x = df[x_columns].values\n",
    "    rg = regressor_class()\n",
    "    \n",
    "    x_train, x_test, y_train, y_test = train_test_split(x, y, test_size=0.33, random_state=2)\n",
    "    rg.fit(x_train, y_train)\n",
    "    y_hat = rg.predict(x_test)\n",
    "    score = rg.score(x_test, y_test)\n",
    "    \n",
    "    plt.scatter(y_test, y_hat)\n",
    "    plt.title(f\"Predicted vs. actual : {y_column} -- score: {score}\")\n",
    "\n",
    "    "
   ],
   "metadata": {
    "collapsed": false,
    "ExecuteTime": {
     "end_time": "2024-02-22T22:09:31.237598878Z",
     "start_time": "2024-02-22T22:09:31.213703030Z"
    }
   },
   "execution_count": 28
  },
  {
   "cell_type": "code",
   "outputs": [
    {
     "data": {
      "text/plain": "     Thickness  PT  Cast_id  Drying_Temp  Temperature    RH  lambda_lv_0  \\\n0         16.0   0        0          150         25.0   1.0     0.220921   \n1         16.0   0        0          150         25.0  10.0     1.530159   \n2         16.0   0        0          150         25.0  20.0     2.216342   \n3         16.0   0        0          150         25.0  30.0     2.794304   \n4         16.0   0        0          150         25.0  40.0     3.325459   \n..         ...  ..      ...          ...          ...   ...          ...   \n424      250.0   1        1           25         75.0  50.0     5.522300   \n425      250.0   1        1           25         75.0  60.0     6.174350   \n426      250.0   1        1           25         75.0  70.0     7.068250   \n427      250.0   1        1           25         75.0  80.0     8.217000   \n428      250.0   1        1           25         75.0  90.0     8.523100   \n\n     lambda_lv_1  \n0            NaN  \n1            NaN  \n2            NaN  \n3            NaN  \n4            NaN  \n..           ...  \n424          NaN  \n425          NaN  \n426          NaN  \n427          NaN  \n428          NaN  \n\n[429 rows x 8 columns]",
      "text/html": "<div>\n<style scoped>\n    .dataframe tbody tr th:only-of-type {\n        vertical-align: middle;\n    }\n\n    .dataframe tbody tr th {\n        vertical-align: top;\n    }\n\n    .dataframe thead th {\n        text-align: right;\n    }\n</style>\n<table border=\"1\" class=\"dataframe\">\n  <thead>\n    <tr style=\"text-align: right;\">\n      <th></th>\n      <th>Thickness</th>\n      <th>PT</th>\n      <th>Cast_id</th>\n      <th>Drying_Temp</th>\n      <th>Temperature</th>\n      <th>RH</th>\n      <th>lambda_lv_0</th>\n      <th>lambda_lv_1</th>\n    </tr>\n  </thead>\n  <tbody>\n    <tr>\n      <th>0</th>\n      <td>16.0</td>\n      <td>0</td>\n      <td>0</td>\n      <td>150</td>\n      <td>25.0</td>\n      <td>1.0</td>\n      <td>0.220921</td>\n      <td>NaN</td>\n    </tr>\n    <tr>\n      <th>1</th>\n      <td>16.0</td>\n      <td>0</td>\n      <td>0</td>\n      <td>150</td>\n      <td>25.0</td>\n      <td>10.0</td>\n      <td>1.530159</td>\n      <td>NaN</td>\n    </tr>\n    <tr>\n      <th>2</th>\n      <td>16.0</td>\n      <td>0</td>\n      <td>0</td>\n      <td>150</td>\n      <td>25.0</td>\n      <td>20.0</td>\n      <td>2.216342</td>\n      <td>NaN</td>\n    </tr>\n    <tr>\n      <th>3</th>\n      <td>16.0</td>\n      <td>0</td>\n      <td>0</td>\n      <td>150</td>\n      <td>25.0</td>\n      <td>30.0</td>\n      <td>2.794304</td>\n      <td>NaN</td>\n    </tr>\n    <tr>\n      <th>4</th>\n      <td>16.0</td>\n      <td>0</td>\n      <td>0</td>\n      <td>150</td>\n      <td>25.0</td>\n      <td>40.0</td>\n      <td>3.325459</td>\n      <td>NaN</td>\n    </tr>\n    <tr>\n      <th>...</th>\n      <td>...</td>\n      <td>...</td>\n      <td>...</td>\n      <td>...</td>\n      <td>...</td>\n      <td>...</td>\n      <td>...</td>\n      <td>...</td>\n    </tr>\n    <tr>\n      <th>424</th>\n      <td>250.0</td>\n      <td>1</td>\n      <td>1</td>\n      <td>25</td>\n      <td>75.0</td>\n      <td>50.0</td>\n      <td>5.522300</td>\n      <td>NaN</td>\n    </tr>\n    <tr>\n      <th>425</th>\n      <td>250.0</td>\n      <td>1</td>\n      <td>1</td>\n      <td>25</td>\n      <td>75.0</td>\n      <td>60.0</td>\n      <td>6.174350</td>\n      <td>NaN</td>\n    </tr>\n    <tr>\n      <th>426</th>\n      <td>250.0</td>\n      <td>1</td>\n      <td>1</td>\n      <td>25</td>\n      <td>75.0</td>\n      <td>70.0</td>\n      <td>7.068250</td>\n      <td>NaN</td>\n    </tr>\n    <tr>\n      <th>427</th>\n      <td>250.0</td>\n      <td>1</td>\n      <td>1</td>\n      <td>25</td>\n      <td>75.0</td>\n      <td>80.0</td>\n      <td>8.217000</td>\n      <td>NaN</td>\n    </tr>\n    <tr>\n      <th>428</th>\n      <td>250.0</td>\n      <td>1</td>\n      <td>1</td>\n      <td>25</td>\n      <td>75.0</td>\n      <td>90.0</td>\n      <td>8.523100</td>\n      <td>NaN</td>\n    </tr>\n  </tbody>\n</table>\n<p>429 rows × 8 columns</p>\n</div>"
     },
     "execution_count": 13,
     "metadata": {},
     "output_type": "execute_result"
    }
   ],
   "source": [
    "df_1_unstacked = unstack_liquid_vapor_datasets(df=df_1, fixed_columns=predictors_1 + ['RH'])\n",
    "df_1_unstacked"
   ],
   "metadata": {
    "collapsed": false,
    "ExecuteTime": {
     "end_time": "2024-02-22T21:24:58.832684777Z",
     "start_time": "2024-02-22T21:24:58.242089787Z"
    }
   },
   "execution_count": 13
  },
  {
   "cell_type": "code",
   "outputs": [
    {
     "data": {
      "text/plain": "     Thickness   PT  Cast_id  Drying_Temp  Temperature    RH  lambda_lv_0  \\\n0         16.0  0.0      0.0        150.0         25.0   1.0     0.220921   \n1         16.0  0.0      0.0        150.0         25.0  10.0     1.530159   \n2         16.0  0.0      0.0        150.0         25.0  20.0     2.216342   \n3         16.0  0.0      0.0        150.0         25.0  30.0     2.794304   \n4         16.0  0.0      0.0        150.0         25.0  40.0     3.325459   \n..         ...  ...      ...          ...          ...   ...          ...   \n424      250.0  1.0      1.0         25.0         75.0  50.0     5.522300   \n425      250.0  1.0      1.0         25.0         75.0  60.0     6.174350   \n426      250.0  1.0      1.0         25.0         75.0  70.0     7.068250   \n427      250.0  1.0      1.0         25.0         75.0  80.0     8.217000   \n428      250.0  1.0      1.0         25.0         75.0  90.0     8.523100   \n\n     lambda_lv_1  \n0      18.245196  \n1      18.245196  \n2      18.245196  \n3      18.245196  \n4      18.245196  \n..           ...  \n424    20.474000  \n425    20.474000  \n426    20.474000  \n427    20.474000  \n428    20.474000  \n\n[429 rows x 8 columns]",
      "text/html": "<div>\n<style scoped>\n    .dataframe tbody tr th:only-of-type {\n        vertical-align: middle;\n    }\n\n    .dataframe tbody tr th {\n        vertical-align: top;\n    }\n\n    .dataframe thead th {\n        text-align: right;\n    }\n</style>\n<table border=\"1\" class=\"dataframe\">\n  <thead>\n    <tr style=\"text-align: right;\">\n      <th></th>\n      <th>Thickness</th>\n      <th>PT</th>\n      <th>Cast_id</th>\n      <th>Drying_Temp</th>\n      <th>Temperature</th>\n      <th>RH</th>\n      <th>lambda_lv_0</th>\n      <th>lambda_lv_1</th>\n    </tr>\n  </thead>\n  <tbody>\n    <tr>\n      <th>0</th>\n      <td>16.0</td>\n      <td>0.0</td>\n      <td>0.0</td>\n      <td>150.0</td>\n      <td>25.0</td>\n      <td>1.0</td>\n      <td>0.220921</td>\n      <td>18.245196</td>\n    </tr>\n    <tr>\n      <th>1</th>\n      <td>16.0</td>\n      <td>0.0</td>\n      <td>0.0</td>\n      <td>150.0</td>\n      <td>25.0</td>\n      <td>10.0</td>\n      <td>1.530159</td>\n      <td>18.245196</td>\n    </tr>\n    <tr>\n      <th>2</th>\n      <td>16.0</td>\n      <td>0.0</td>\n      <td>0.0</td>\n      <td>150.0</td>\n      <td>25.0</td>\n      <td>20.0</td>\n      <td>2.216342</td>\n      <td>18.245196</td>\n    </tr>\n    <tr>\n      <th>3</th>\n      <td>16.0</td>\n      <td>0.0</td>\n      <td>0.0</td>\n      <td>150.0</td>\n      <td>25.0</td>\n      <td>30.0</td>\n      <td>2.794304</td>\n      <td>18.245196</td>\n    </tr>\n    <tr>\n      <th>4</th>\n      <td>16.0</td>\n      <td>0.0</td>\n      <td>0.0</td>\n      <td>150.0</td>\n      <td>25.0</td>\n      <td>40.0</td>\n      <td>3.325459</td>\n      <td>18.245196</td>\n    </tr>\n    <tr>\n      <th>...</th>\n      <td>...</td>\n      <td>...</td>\n      <td>...</td>\n      <td>...</td>\n      <td>...</td>\n      <td>...</td>\n      <td>...</td>\n      <td>...</td>\n    </tr>\n    <tr>\n      <th>424</th>\n      <td>250.0</td>\n      <td>1.0</td>\n      <td>1.0</td>\n      <td>25.0</td>\n      <td>75.0</td>\n      <td>50.0</td>\n      <td>5.522300</td>\n      <td>20.474000</td>\n    </tr>\n    <tr>\n      <th>425</th>\n      <td>250.0</td>\n      <td>1.0</td>\n      <td>1.0</td>\n      <td>25.0</td>\n      <td>75.0</td>\n      <td>60.0</td>\n      <td>6.174350</td>\n      <td>20.474000</td>\n    </tr>\n    <tr>\n      <th>426</th>\n      <td>250.0</td>\n      <td>1.0</td>\n      <td>1.0</td>\n      <td>25.0</td>\n      <td>75.0</td>\n      <td>70.0</td>\n      <td>7.068250</td>\n      <td>20.474000</td>\n    </tr>\n    <tr>\n      <th>427</th>\n      <td>250.0</td>\n      <td>1.0</td>\n      <td>1.0</td>\n      <td>25.0</td>\n      <td>75.0</td>\n      <td>80.0</td>\n      <td>8.217000</td>\n      <td>20.474000</td>\n    </tr>\n    <tr>\n      <th>428</th>\n      <td>250.0</td>\n      <td>1.0</td>\n      <td>1.0</td>\n      <td>25.0</td>\n      <td>75.0</td>\n      <td>90.0</td>\n      <td>8.523100</td>\n      <td>20.474000</td>\n    </tr>\n  </tbody>\n</table>\n<p>429 rows × 8 columns</p>\n</div>"
     },
     "execution_count": 14,
     "metadata": {},
     "output_type": "execute_result"
    }
   ],
   "source": [
    "df_1_imputed = knn_impute(df=df_1_unstacked, exclude_columns=['lambda_lv_0'])\n",
    "df_1_imputed = knn_impute(df=df_1_imputed, exclude_columns=['lambda_lv_1']) \n",
    "df_1_imputed"
   ],
   "metadata": {
    "collapsed": false,
    "ExecuteTime": {
     "end_time": "2024-02-22T21:24:58.984785219Z",
     "start_time": "2024-02-22T21:24:58.331357466Z"
    }
   },
   "execution_count": 14
  },
  {
   "cell_type": "code",
   "outputs": [
    {
     "name": "stderr",
     "output_type": "stream",
     "text": [
      "/tmp/ipykernel_197957/2203347747.py:12: SettingWithCopyWarning: \n",
      "A value is trying to be set on a copy of a slice from a DataFrame.\n",
      "Try using .loc[row_indexer,col_indexer] = value instead\n",
      "\n",
      "See the caveats in the documentation: https://pandas.pydata.org/pandas-docs/stable/user_guide/indexing.html#returning-a-view-versus-a-copy\n",
      "  df['delta_lambda'] = df['lambda_lv_1'] - df['lambda_lv_0']\n",
      "/tmp/ipykernel_197957/2203347747.py:13: SettingWithCopyWarning: \n",
      "A value is trying to be set on a copy of a slice from a DataFrame.\n",
      "Try using .loc[row_indexer,col_indexer] = value instead\n",
      "\n",
      "See the caveats in the documentation: https://pandas.pydata.org/pandas-docs/stable/user_guide/indexing.html#returning-a-view-versus-a-copy\n",
      "  df['delta_lambda'] = df['delta_lambda'].apply(lambda x : 0 if x < 0 else x)\n"
     ]
    }
   ],
   "source": [
    "df_1_trainable = compute_performance_metric_delta_lambda(df_1_imputed)"
   ],
   "metadata": {
    "collapsed": false,
    "ExecuteTime": {
     "end_time": "2024-02-22T21:24:58.986795147Z",
     "start_time": "2024-02-22T21:24:58.556221037Z"
    }
   },
   "execution_count": 15
  },
  {
   "cell_type": "code",
   "outputs": [
    {
     "data": {
      "text/plain": "0.9298246361194895"
     },
     "execution_count": 16,
     "metadata": {},
     "output_type": "execute_result"
    }
   ],
   "source": [
    "score = fit_regressor_model(df=df_1_trainable, regressor_class=RandomForestRegressor, y_column='delta_lambda')\n",
    "score"
   ],
   "metadata": {
    "collapsed": false,
    "ExecuteTime": {
     "end_time": "2024-02-22T21:24:59.449644084Z",
     "start_time": "2024-02-22T21:24:58.573904775Z"
    }
   },
   "execution_count": 16
  },
  {
   "cell_type": "code",
   "outputs": [],
   "source": [
    "def screen_pipeline(df: pd.DataFrame, n_neighbor_pool: List[int]):\n",
    "    \n",
    "    fixed_columns = [_c for _c in ['Thickness', 'PT', 'Cast_id', 'Drying_Temp', 'Equilibrium_hr', 'RH', 'Temperature'] if _c in df.columns.values.tolist()]\n",
    "    \n",
    "    df_1_unstacked = unstack_liquid_vapor_datasets(df=df, fixed_columns=fixed_columns)\n",
    "    \n",
    "    n_neighbors = []\n",
    "    scores = []\n",
    "    \n",
    "    for n_neighbor in n_neighbor_pool:\n",
    "        df_1_imputed = knn_impute(df=df_1_unstacked, exclude_columns=['lambda_lv_0'], n_neighbor=n_neighbor)\n",
    "        df_1_imputed = knn_impute(df=df_1_imputed, exclude_columns=['lambda_lv_1'], n_neighbor=n_neighbor)\n",
    "        df_1_trainable = compute_performance_metric_delta_lambda(df_1_imputed)\n",
    "        score = fit_regressor_model(df=df_1_trainable, regressor_class=RandomForestRegressor, y_column='delta_lambda')\n",
    "        n_neighbors.append(n_neighbor)\n",
    "        scores.append(score)\n",
    "        \n",
    "    return n_neighbors, scores"
   ],
   "metadata": {
    "collapsed": false,
    "ExecuteTime": {
     "end_time": "2024-02-22T21:24:59.467739322Z",
     "start_time": "2024-02-22T21:24:59.448968898Z"
    }
   },
   "execution_count": 17
  },
  {
   "cell_type": "code",
   "outputs": [],
   "source": [
    "def evaluate_pipeline(df: pd.DataFrame, n_neighbor: int):\n",
    "    \n",
    "    fixed_columns = [_c for _c in ['Thickness', 'PT', 'Cast_id', 'Drying_Temp', 'Equilibrium_hr', 'RH', 'Temperature'] if _c in df.columns.values.tolist()]\n",
    "    \n",
    "    df_1_unstacked = unstack_liquid_vapor_datasets(df=df, fixed_columns=fixed_columns)\n",
    "    \n",
    "    df_1_imputed = knn_impute(df=df_1_unstacked, exclude_columns=['lambda_lv_0'], n_neighbor=n_neighbor)\n",
    "    df_1_imputed = knn_impute(df=df_1_imputed, exclude_columns=['lambda_lv_1'], n_neighbor=n_neighbor)\n",
    "    df_1_trainable = compute_performance_metric_delta_lambda(df_1_imputed)\n",
    "    score = evaluate_regressor_model(df=df_1_trainable, regressor_class=RandomForestRegressor, y_column='delta_lambda')\n"
   ],
   "metadata": {
    "collapsed": false,
    "ExecuteTime": {
     "end_time": "2024-02-22T21:24:59.507914462Z",
     "start_time": "2024-02-22T21:24:59.458413655Z"
    }
   },
   "execution_count": 18
  },
  {
   "cell_type": "code",
   "outputs": [
    {
     "name": "stderr",
     "output_type": "stream",
     "text": [
      "/tmp/ipykernel_197957/2203347747.py:12: SettingWithCopyWarning: \n",
      "A value is trying to be set on a copy of a slice from a DataFrame.\n",
      "Try using .loc[row_indexer,col_indexer] = value instead\n",
      "\n",
      "See the caveats in the documentation: https://pandas.pydata.org/pandas-docs/stable/user_guide/indexing.html#returning-a-view-versus-a-copy\n",
      "  df['delta_lambda'] = df['lambda_lv_1'] - df['lambda_lv_0']\n",
      "/tmp/ipykernel_197957/2203347747.py:13: SettingWithCopyWarning: \n",
      "A value is trying to be set on a copy of a slice from a DataFrame.\n",
      "Try using .loc[row_indexer,col_indexer] = value instead\n",
      "\n",
      "See the caveats in the documentation: https://pandas.pydata.org/pandas-docs/stable/user_guide/indexing.html#returning-a-view-versus-a-copy\n",
      "  df['delta_lambda'] = df['delta_lambda'].apply(lambda x : 0 if x < 0 else x)\n",
      "/tmp/ipykernel_197957/2203347747.py:12: SettingWithCopyWarning: \n",
      "A value is trying to be set on a copy of a slice from a DataFrame.\n",
      "Try using .loc[row_indexer,col_indexer] = value instead\n",
      "\n",
      "See the caveats in the documentation: https://pandas.pydata.org/pandas-docs/stable/user_guide/indexing.html#returning-a-view-versus-a-copy\n",
      "  df['delta_lambda'] = df['lambda_lv_1'] - df['lambda_lv_0']\n",
      "/tmp/ipykernel_197957/2203347747.py:13: SettingWithCopyWarning: \n",
      "A value is trying to be set on a copy of a slice from a DataFrame.\n",
      "Try using .loc[row_indexer,col_indexer] = value instead\n",
      "\n",
      "See the caveats in the documentation: https://pandas.pydata.org/pandas-docs/stable/user_guide/indexing.html#returning-a-view-versus-a-copy\n",
      "  df['delta_lambda'] = df['delta_lambda'].apply(lambda x : 0 if x < 0 else x)\n",
      "/tmp/ipykernel_197957/2203347747.py:12: SettingWithCopyWarning: \n",
      "A value is trying to be set on a copy of a slice from a DataFrame.\n",
      "Try using .loc[row_indexer,col_indexer] = value instead\n",
      "\n",
      "See the caveats in the documentation: https://pandas.pydata.org/pandas-docs/stable/user_guide/indexing.html#returning-a-view-versus-a-copy\n",
      "  df['delta_lambda'] = df['lambda_lv_1'] - df['lambda_lv_0']\n",
      "/tmp/ipykernel_197957/2203347747.py:13: SettingWithCopyWarning: \n",
      "A value is trying to be set on a copy of a slice from a DataFrame.\n",
      "Try using .loc[row_indexer,col_indexer] = value instead\n",
      "\n",
      "See the caveats in the documentation: https://pandas.pydata.org/pandas-docs/stable/user_guide/indexing.html#returning-a-view-versus-a-copy\n",
      "  df['delta_lambda'] = df['delta_lambda'].apply(lambda x : 0 if x < 0 else x)\n",
      "/tmp/ipykernel_197957/2203347747.py:12: SettingWithCopyWarning: \n",
      "A value is trying to be set on a copy of a slice from a DataFrame.\n",
      "Try using .loc[row_indexer,col_indexer] = value instead\n",
      "\n",
      "See the caveats in the documentation: https://pandas.pydata.org/pandas-docs/stable/user_guide/indexing.html#returning-a-view-versus-a-copy\n",
      "  df['delta_lambda'] = df['lambda_lv_1'] - df['lambda_lv_0']\n",
      "/tmp/ipykernel_197957/2203347747.py:13: SettingWithCopyWarning: \n",
      "A value is trying to be set on a copy of a slice from a DataFrame.\n",
      "Try using .loc[row_indexer,col_indexer] = value instead\n",
      "\n",
      "See the caveats in the documentation: https://pandas.pydata.org/pandas-docs/stable/user_guide/indexing.html#returning-a-view-versus-a-copy\n",
      "  df['delta_lambda'] = df['delta_lambda'].apply(lambda x : 0 if x < 0 else x)\n",
      "/tmp/ipykernel_197957/2203347747.py:12: SettingWithCopyWarning: \n",
      "A value is trying to be set on a copy of a slice from a DataFrame.\n",
      "Try using .loc[row_indexer,col_indexer] = value instead\n",
      "\n",
      "See the caveats in the documentation: https://pandas.pydata.org/pandas-docs/stable/user_guide/indexing.html#returning-a-view-versus-a-copy\n",
      "  df['delta_lambda'] = df['lambda_lv_1'] - df['lambda_lv_0']\n",
      "/tmp/ipykernel_197957/2203347747.py:13: SettingWithCopyWarning: \n",
      "A value is trying to be set on a copy of a slice from a DataFrame.\n",
      "Try using .loc[row_indexer,col_indexer] = value instead\n",
      "\n",
      "See the caveats in the documentation: https://pandas.pydata.org/pandas-docs/stable/user_guide/indexing.html#returning-a-view-versus-a-copy\n",
      "  df['delta_lambda'] = df['delta_lambda'].apply(lambda x : 0 if x < 0 else x)\n",
      "/tmp/ipykernel_197957/2203347747.py:12: SettingWithCopyWarning: \n",
      "A value is trying to be set on a copy of a slice from a DataFrame.\n",
      "Try using .loc[row_indexer,col_indexer] = value instead\n",
      "\n",
      "See the caveats in the documentation: https://pandas.pydata.org/pandas-docs/stable/user_guide/indexing.html#returning-a-view-versus-a-copy\n",
      "  df['delta_lambda'] = df['lambda_lv_1'] - df['lambda_lv_0']\n",
      "/tmp/ipykernel_197957/2203347747.py:13: SettingWithCopyWarning: \n",
      "A value is trying to be set on a copy of a slice from a DataFrame.\n",
      "Try using .loc[row_indexer,col_indexer] = value instead\n",
      "\n",
      "See the caveats in the documentation: https://pandas.pydata.org/pandas-docs/stable/user_guide/indexing.html#returning-a-view-versus-a-copy\n",
      "  df['delta_lambda'] = df['delta_lambda'].apply(lambda x : 0 if x < 0 else x)\n",
      "/tmp/ipykernel_197957/2203347747.py:12: SettingWithCopyWarning: \n",
      "A value is trying to be set on a copy of a slice from a DataFrame.\n",
      "Try using .loc[row_indexer,col_indexer] = value instead\n",
      "\n",
      "See the caveats in the documentation: https://pandas.pydata.org/pandas-docs/stable/user_guide/indexing.html#returning-a-view-versus-a-copy\n",
      "  df['delta_lambda'] = df['lambda_lv_1'] - df['lambda_lv_0']\n",
      "/tmp/ipykernel_197957/2203347747.py:13: SettingWithCopyWarning: \n",
      "A value is trying to be set on a copy of a slice from a DataFrame.\n",
      "Try using .loc[row_indexer,col_indexer] = value instead\n",
      "\n",
      "See the caveats in the documentation: https://pandas.pydata.org/pandas-docs/stable/user_guide/indexing.html#returning-a-view-versus-a-copy\n",
      "  df['delta_lambda'] = df['delta_lambda'].apply(lambda x : 0 if x < 0 else x)\n",
      "/tmp/ipykernel_197957/2203347747.py:12: SettingWithCopyWarning: \n",
      "A value is trying to be set on a copy of a slice from a DataFrame.\n",
      "Try using .loc[row_indexer,col_indexer] = value instead\n",
      "\n",
      "See the caveats in the documentation: https://pandas.pydata.org/pandas-docs/stable/user_guide/indexing.html#returning-a-view-versus-a-copy\n",
      "  df['delta_lambda'] = df['lambda_lv_1'] - df['lambda_lv_0']\n",
      "/tmp/ipykernel_197957/2203347747.py:13: SettingWithCopyWarning: \n",
      "A value is trying to be set on a copy of a slice from a DataFrame.\n",
      "Try using .loc[row_indexer,col_indexer] = value instead\n",
      "\n",
      "See the caveats in the documentation: https://pandas.pydata.org/pandas-docs/stable/user_guide/indexing.html#returning-a-view-versus-a-copy\n",
      "  df['delta_lambda'] = df['delta_lambda'].apply(lambda x : 0 if x < 0 else x)\n",
      "/tmp/ipykernel_197957/2203347747.py:12: SettingWithCopyWarning: \n",
      "A value is trying to be set on a copy of a slice from a DataFrame.\n",
      "Try using .loc[row_indexer,col_indexer] = value instead\n",
      "\n",
      "See the caveats in the documentation: https://pandas.pydata.org/pandas-docs/stable/user_guide/indexing.html#returning-a-view-versus-a-copy\n",
      "  df['delta_lambda'] = df['lambda_lv_1'] - df['lambda_lv_0']\n",
      "/tmp/ipykernel_197957/2203347747.py:13: SettingWithCopyWarning: \n",
      "A value is trying to be set on a copy of a slice from a DataFrame.\n",
      "Try using .loc[row_indexer,col_indexer] = value instead\n",
      "\n",
      "See the caveats in the documentation: https://pandas.pydata.org/pandas-docs/stable/user_guide/indexing.html#returning-a-view-versus-a-copy\n",
      "  df['delta_lambda'] = df['delta_lambda'].apply(lambda x : 0 if x < 0 else x)\n",
      "/tmp/ipykernel_197957/2203347747.py:12: SettingWithCopyWarning: \n",
      "A value is trying to be set on a copy of a slice from a DataFrame.\n",
      "Try using .loc[row_indexer,col_indexer] = value instead\n",
      "\n",
      "See the caveats in the documentation: https://pandas.pydata.org/pandas-docs/stable/user_guide/indexing.html#returning-a-view-versus-a-copy\n",
      "  df['delta_lambda'] = df['lambda_lv_1'] - df['lambda_lv_0']\n",
      "/tmp/ipykernel_197957/2203347747.py:13: SettingWithCopyWarning: \n",
      "A value is trying to be set on a copy of a slice from a DataFrame.\n",
      "Try using .loc[row_indexer,col_indexer] = value instead\n",
      "\n",
      "See the caveats in the documentation: https://pandas.pydata.org/pandas-docs/stable/user_guide/indexing.html#returning-a-view-versus-a-copy\n",
      "  df['delta_lambda'] = df['delta_lambda'].apply(lambda x : 0 if x < 0 else x)\n",
      "/tmp/ipykernel_197957/2203347747.py:12: SettingWithCopyWarning: \n",
      "A value is trying to be set on a copy of a slice from a DataFrame.\n",
      "Try using .loc[row_indexer,col_indexer] = value instead\n",
      "\n",
      "See the caveats in the documentation: https://pandas.pydata.org/pandas-docs/stable/user_guide/indexing.html#returning-a-view-versus-a-copy\n",
      "  df['delta_lambda'] = df['lambda_lv_1'] - df['lambda_lv_0']\n",
      "/tmp/ipykernel_197957/2203347747.py:13: SettingWithCopyWarning: \n",
      "A value is trying to be set on a copy of a slice from a DataFrame.\n",
      "Try using .loc[row_indexer,col_indexer] = value instead\n",
      "\n",
      "See the caveats in the documentation: https://pandas.pydata.org/pandas-docs/stable/user_guide/indexing.html#returning-a-view-versus-a-copy\n",
      "  df['delta_lambda'] = df['delta_lambda'].apply(lambda x : 0 if x < 0 else x)\n",
      "/tmp/ipykernel_197957/2203347747.py:12: SettingWithCopyWarning: \n",
      "A value is trying to be set on a copy of a slice from a DataFrame.\n",
      "Try using .loc[row_indexer,col_indexer] = value instead\n",
      "\n",
      "See the caveats in the documentation: https://pandas.pydata.org/pandas-docs/stable/user_guide/indexing.html#returning-a-view-versus-a-copy\n",
      "  df['delta_lambda'] = df['lambda_lv_1'] - df['lambda_lv_0']\n",
      "/tmp/ipykernel_197957/2203347747.py:13: SettingWithCopyWarning: \n",
      "A value is trying to be set on a copy of a slice from a DataFrame.\n",
      "Try using .loc[row_indexer,col_indexer] = value instead\n",
      "\n",
      "See the caveats in the documentation: https://pandas.pydata.org/pandas-docs/stable/user_guide/indexing.html#returning-a-view-versus-a-copy\n",
      "  df['delta_lambda'] = df['delta_lambda'].apply(lambda x : 0 if x < 0 else x)\n",
      "/tmp/ipykernel_197957/2203347747.py:12: SettingWithCopyWarning: \n",
      "A value is trying to be set on a copy of a slice from a DataFrame.\n",
      "Try using .loc[row_indexer,col_indexer] = value instead\n",
      "\n",
      "See the caveats in the documentation: https://pandas.pydata.org/pandas-docs/stable/user_guide/indexing.html#returning-a-view-versus-a-copy\n",
      "  df['delta_lambda'] = df['lambda_lv_1'] - df['lambda_lv_0']\n",
      "/tmp/ipykernel_197957/2203347747.py:13: SettingWithCopyWarning: \n",
      "A value is trying to be set on a copy of a slice from a DataFrame.\n",
      "Try using .loc[row_indexer,col_indexer] = value instead\n",
      "\n",
      "See the caveats in the documentation: https://pandas.pydata.org/pandas-docs/stable/user_guide/indexing.html#returning-a-view-versus-a-copy\n",
      "  df['delta_lambda'] = df['delta_lambda'].apply(lambda x : 0 if x < 0 else x)\n"
     ]
    }
   ],
   "source": [
    "neighbors, scores = screen_pipeline(df=df_1, n_neighbor_pool=list(range(3, 16)))"
   ],
   "metadata": {
    "collapsed": false,
    "ExecuteTime": {
     "end_time": "2024-02-22T21:25:11.358435818Z",
     "start_time": "2024-02-22T21:24:59.468909463Z"
    }
   },
   "execution_count": 19
  },
  {
   "cell_type": "code",
   "outputs": [
    {
     "data": {
      "text/plain": "[<matplotlib.lines.Line2D at 0x7f9cd0593ee0>]"
     },
     "execution_count": 20,
     "metadata": {},
     "output_type": "execute_result"
    },
    {
     "data": {
      "text/plain": "<Figure size 640x480 with 1 Axes>",
      "image/png": "[encoded data removed]"
     },
     "metadata": {},
     "output_type": "display_data"
    }
   ],
   "source": [
    "plt.plot(neighbors, scores)"
   ],
   "metadata": {
    "collapsed": false,
    "ExecuteTime": {
     "end_time": "2024-02-22T21:25:11.814140890Z",
     "start_time": "2024-02-22T21:25:11.358122858Z"
    }
   },
   "execution_count": 20
  },
  {
   "cell_type": "code",
   "outputs": [
    {
     "name": "stderr",
     "output_type": "stream",
     "text": [
      "/tmp/ipykernel_197957/2203347747.py:12: SettingWithCopyWarning: \n",
      "A value is trying to be set on a copy of a slice from a DataFrame.\n",
      "Try using .loc[row_indexer,col_indexer] = value instead\n",
      "\n",
      "See the caveats in the documentation: https://pandas.pydata.org/pandas-docs/stable/user_guide/indexing.html#returning-a-view-versus-a-copy\n",
      "  df['delta_lambda'] = df['lambda_lv_1'] - df['lambda_lv_0']\n",
      "/tmp/ipykernel_197957/2203347747.py:13: SettingWithCopyWarning: \n",
      "A value is trying to be set on a copy of a slice from a DataFrame.\n",
      "Try using .loc[row_indexer,col_indexer] = value instead\n",
      "\n",
      "See the caveats in the documentation: https://pandas.pydata.org/pandas-docs/stable/user_guide/indexing.html#returning-a-view-versus-a-copy\n",
      "  df['delta_lambda'] = df['delta_lambda'].apply(lambda x : 0 if x < 0 else x)\n",
      "/tmp/ipykernel_197957/2203347747.py:12: SettingWithCopyWarning: \n",
      "A value is trying to be set on a copy of a slice from a DataFrame.\n",
      "Try using .loc[row_indexer,col_indexer] = value instead\n",
      "\n",
      "See the caveats in the documentation: https://pandas.pydata.org/pandas-docs/stable/user_guide/indexing.html#returning-a-view-versus-a-copy\n",
      "  df['delta_lambda'] = df['lambda_lv_1'] - df['lambda_lv_0']\n",
      "/tmp/ipykernel_197957/2203347747.py:13: SettingWithCopyWarning: \n",
      "A value is trying to be set on a copy of a slice from a DataFrame.\n",
      "Try using .loc[row_indexer,col_indexer] = value instead\n",
      "\n",
      "See the caveats in the documentation: https://pandas.pydata.org/pandas-docs/stable/user_guide/indexing.html#returning-a-view-versus-a-copy\n",
      "  df['delta_lambda'] = df['delta_lambda'].apply(lambda x : 0 if x < 0 else x)\n",
      "/tmp/ipykernel_197957/2203347747.py:12: SettingWithCopyWarning: \n",
      "A value is trying to be set on a copy of a slice from a DataFrame.\n",
      "Try using .loc[row_indexer,col_indexer] = value instead\n",
      "\n",
      "See the caveats in the documentation: https://pandas.pydata.org/pandas-docs/stable/user_guide/indexing.html#returning-a-view-versus-a-copy\n",
      "  df['delta_lambda'] = df['lambda_lv_1'] - df['lambda_lv_0']\n",
      "/tmp/ipykernel_197957/2203347747.py:13: SettingWithCopyWarning: \n",
      "A value is trying to be set on a copy of a slice from a DataFrame.\n",
      "Try using .loc[row_indexer,col_indexer] = value instead\n",
      "\n",
      "See the caveats in the documentation: https://pandas.pydata.org/pandas-docs/stable/user_guide/indexing.html#returning-a-view-versus-a-copy\n",
      "  df['delta_lambda'] = df['delta_lambda'].apply(lambda x : 0 if x < 0 else x)\n",
      "/tmp/ipykernel_197957/2203347747.py:12: SettingWithCopyWarning: \n",
      "A value is trying to be set on a copy of a slice from a DataFrame.\n",
      "Try using .loc[row_indexer,col_indexer] = value instead\n",
      "\n",
      "See the caveats in the documentation: https://pandas.pydata.org/pandas-docs/stable/user_guide/indexing.html#returning-a-view-versus-a-copy\n",
      "  df['delta_lambda'] = df['lambda_lv_1'] - df['lambda_lv_0']\n",
      "/tmp/ipykernel_197957/2203347747.py:13: SettingWithCopyWarning: \n",
      "A value is trying to be set on a copy of a slice from a DataFrame.\n",
      "Try using .loc[row_indexer,col_indexer] = value instead\n",
      "\n",
      "See the caveats in the documentation: https://pandas.pydata.org/pandas-docs/stable/user_guide/indexing.html#returning-a-view-versus-a-copy\n",
      "  df['delta_lambda'] = df['delta_lambda'].apply(lambda x : 0 if x < 0 else x)\n",
      "/tmp/ipykernel_197957/2203347747.py:12: SettingWithCopyWarning: \n",
      "A value is trying to be set on a copy of a slice from a DataFrame.\n",
      "Try using .loc[row_indexer,col_indexer] = value instead\n",
      "\n",
      "See the caveats in the documentation: https://pandas.pydata.org/pandas-docs/stable/user_guide/indexing.html#returning-a-view-versus-a-copy\n",
      "  df['delta_lambda'] = df['lambda_lv_1'] - df['lambda_lv_0']\n",
      "/tmp/ipykernel_197957/2203347747.py:13: SettingWithCopyWarning: \n",
      "A value is trying to be set on a copy of a slice from a DataFrame.\n",
      "Try using .loc[row_indexer,col_indexer] = value instead\n",
      "\n",
      "See the caveats in the documentation: https://pandas.pydata.org/pandas-docs/stable/user_guide/indexing.html#returning-a-view-versus-a-copy\n",
      "  df['delta_lambda'] = df['delta_lambda'].apply(lambda x : 0 if x < 0 else x)\n",
      "/tmp/ipykernel_197957/2203347747.py:12: SettingWithCopyWarning: \n",
      "A value is trying to be set on a copy of a slice from a DataFrame.\n",
      "Try using .loc[row_indexer,col_indexer] = value instead\n",
      "\n",
      "See the caveats in the documentation: https://pandas.pydata.org/pandas-docs/stable/user_guide/indexing.html#returning-a-view-versus-a-copy\n",
      "  df['delta_lambda'] = df['lambda_lv_1'] - df['lambda_lv_0']\n",
      "/tmp/ipykernel_197957/2203347747.py:13: SettingWithCopyWarning: \n",
      "A value is trying to be set on a copy of a slice from a DataFrame.\n",
      "Try using .loc[row_indexer,col_indexer] = value instead\n",
      "\n",
      "See the caveats in the documentation: https://pandas.pydata.org/pandas-docs/stable/user_guide/indexing.html#returning-a-view-versus-a-copy\n",
      "  df['delta_lambda'] = df['delta_lambda'].apply(lambda x : 0 if x < 0 else x)\n",
      "/tmp/ipykernel_197957/2203347747.py:12: SettingWithCopyWarning: \n",
      "A value is trying to be set on a copy of a slice from a DataFrame.\n",
      "Try using .loc[row_indexer,col_indexer] = value instead\n",
      "\n",
      "See the caveats in the documentation: https://pandas.pydata.org/pandas-docs/stable/user_guide/indexing.html#returning-a-view-versus-a-copy\n",
      "  df['delta_lambda'] = df['lambda_lv_1'] - df['lambda_lv_0']\n",
      "/tmp/ipykernel_197957/2203347747.py:13: SettingWithCopyWarning: \n",
      "A value is trying to be set on a copy of a slice from a DataFrame.\n",
      "Try using .loc[row_indexer,col_indexer] = value instead\n",
      "\n",
      "See the caveats in the documentation: https://pandas.pydata.org/pandas-docs/stable/user_guide/indexing.html#returning-a-view-versus-a-copy\n",
      "  df['delta_lambda'] = df['delta_lambda'].apply(lambda x : 0 if x < 0 else x)\n",
      "/tmp/ipykernel_197957/2203347747.py:12: SettingWithCopyWarning: \n",
      "A value is trying to be set on a copy of a slice from a DataFrame.\n",
      "Try using .loc[row_indexer,col_indexer] = value instead\n",
      "\n",
      "See the caveats in the documentation: https://pandas.pydata.org/pandas-docs/stable/user_guide/indexing.html#returning-a-view-versus-a-copy\n",
      "  df['delta_lambda'] = df['lambda_lv_1'] - df['lambda_lv_0']\n",
      "/tmp/ipykernel_197957/2203347747.py:13: SettingWithCopyWarning: \n",
      "A value is trying to be set on a copy of a slice from a DataFrame.\n",
      "Try using .loc[row_indexer,col_indexer] = value instead\n",
      "\n",
      "See the caveats in the documentation: https://pandas.pydata.org/pandas-docs/stable/user_guide/indexing.html#returning-a-view-versus-a-copy\n",
      "  df['delta_lambda'] = df['delta_lambda'].apply(lambda x : 0 if x < 0 else x)\n",
      "/tmp/ipykernel_197957/2203347747.py:12: SettingWithCopyWarning: \n",
      "A value is trying to be set on a copy of a slice from a DataFrame.\n",
      "Try using .loc[row_indexer,col_indexer] = value instead\n",
      "\n",
      "See the caveats in the documentation: https://pandas.pydata.org/pandas-docs/stable/user_guide/indexing.html#returning-a-view-versus-a-copy\n",
      "  df['delta_lambda'] = df['lambda_lv_1'] - df['lambda_lv_0']\n",
      "/tmp/ipykernel_197957/2203347747.py:13: SettingWithCopyWarning: \n",
      "A value is trying to be set on a copy of a slice from a DataFrame.\n",
      "Try using .loc[row_indexer,col_indexer] = value instead\n",
      "\n",
      "See the caveats in the documentation: https://pandas.pydata.org/pandas-docs/stable/user_guide/indexing.html#returning-a-view-versus-a-copy\n",
      "  df['delta_lambda'] = df['delta_lambda'].apply(lambda x : 0 if x < 0 else x)\n",
      "/tmp/ipykernel_197957/2203347747.py:12: SettingWithCopyWarning: \n",
      "A value is trying to be set on a copy of a slice from a DataFrame.\n",
      "Try using .loc[row_indexer,col_indexer] = value instead\n",
      "\n",
      "See the caveats in the documentation: https://pandas.pydata.org/pandas-docs/stable/user_guide/indexing.html#returning-a-view-versus-a-copy\n",
      "  df['delta_lambda'] = df['lambda_lv_1'] - df['lambda_lv_0']\n",
      "/tmp/ipykernel_197957/2203347747.py:13: SettingWithCopyWarning: \n",
      "A value is trying to be set on a copy of a slice from a DataFrame.\n",
      "Try using .loc[row_indexer,col_indexer] = value instead\n",
      "\n",
      "See the caveats in the documentation: https://pandas.pydata.org/pandas-docs/stable/user_guide/indexing.html#returning-a-view-versus-a-copy\n",
      "  df['delta_lambda'] = df['delta_lambda'].apply(lambda x : 0 if x < 0 else x)\n",
      "/tmp/ipykernel_197957/2203347747.py:12: SettingWithCopyWarning: \n",
      "A value is trying to be set on a copy of a slice from a DataFrame.\n",
      "Try using .loc[row_indexer,col_indexer] = value instead\n",
      "\n",
      "See the caveats in the documentation: https://pandas.pydata.org/pandas-docs/stable/user_guide/indexing.html#returning-a-view-versus-a-copy\n",
      "  df['delta_lambda'] = df['lambda_lv_1'] - df['lambda_lv_0']\n",
      "/tmp/ipykernel_197957/2203347747.py:13: SettingWithCopyWarning: \n",
      "A value is trying to be set on a copy of a slice from a DataFrame.\n",
      "Try using .loc[row_indexer,col_indexer] = value instead\n",
      "\n",
      "See the caveats in the documentation: https://pandas.pydata.org/pandas-docs/stable/user_guide/indexing.html#returning-a-view-versus-a-copy\n",
      "  df['delta_lambda'] = df['delta_lambda'].apply(lambda x : 0 if x < 0 else x)\n",
      "/tmp/ipykernel_197957/2203347747.py:12: SettingWithCopyWarning: \n",
      "A value is trying to be set on a copy of a slice from a DataFrame.\n",
      "Try using .loc[row_indexer,col_indexer] = value instead\n",
      "\n",
      "See the caveats in the documentation: https://pandas.pydata.org/pandas-docs/stable/user_guide/indexing.html#returning-a-view-versus-a-copy\n",
      "  df['delta_lambda'] = df['lambda_lv_1'] - df['lambda_lv_0']\n",
      "/tmp/ipykernel_197957/2203347747.py:13: SettingWithCopyWarning: \n",
      "A value is trying to be set on a copy of a slice from a DataFrame.\n",
      "Try using .loc[row_indexer,col_indexer] = value instead\n",
      "\n",
      "See the caveats in the documentation: https://pandas.pydata.org/pandas-docs/stable/user_guide/indexing.html#returning-a-view-versus-a-copy\n",
      "  df['delta_lambda'] = df['delta_lambda'].apply(lambda x : 0 if x < 0 else x)\n",
      "/tmp/ipykernel_197957/2203347747.py:12: SettingWithCopyWarning: \n",
      "A value is trying to be set on a copy of a slice from a DataFrame.\n",
      "Try using .loc[row_indexer,col_indexer] = value instead\n",
      "\n",
      "See the caveats in the documentation: https://pandas.pydata.org/pandas-docs/stable/user_guide/indexing.html#returning-a-view-versus-a-copy\n",
      "  df['delta_lambda'] = df['lambda_lv_1'] - df['lambda_lv_0']\n",
      "/tmp/ipykernel_197957/2203347747.py:13: SettingWithCopyWarning: \n",
      "A value is trying to be set on a copy of a slice from a DataFrame.\n",
      "Try using .loc[row_indexer,col_indexer] = value instead\n",
      "\n",
      "See the caveats in the documentation: https://pandas.pydata.org/pandas-docs/stable/user_guide/indexing.html#returning-a-view-versus-a-copy\n",
      "  df['delta_lambda'] = df['delta_lambda'].apply(lambda x : 0 if x < 0 else x)\n"
     ]
    }
   ],
   "source": [
    "neighbors, scores = screen_pipeline(df=df_2, n_neighbor_pool=list(range(3, 16)))"
   ],
   "metadata": {
    "collapsed": false,
    "ExecuteTime": {
     "end_time": "2024-02-22T21:25:24.359381947Z",
     "start_time": "2024-02-22T21:25:11.813957637Z"
    }
   },
   "execution_count": 21
  },
  {
   "cell_type": "code",
   "outputs": [
    {
     "data": {
      "text/plain": "[<matplotlib.lines.Line2D at 0x7f9cce4b4310>]"
     },
     "execution_count": 22,
     "metadata": {},
     "output_type": "execute_result"
    },
    {
     "data": {
      "text/plain": "<Figure size 640x480 with 1 Axes>",
      "image/png": "[encoded data removed]"
     },
     "metadata": {},
     "output_type": "display_data"
    }
   ],
   "source": [
    "plt.plot(neighbors, scores)"
   ],
   "metadata": {
    "collapsed": false,
    "ExecuteTime": {
     "end_time": "2024-02-22T21:25:24.600899151Z",
     "start_time": "2024-02-22T21:25:24.359171436Z"
    }
   },
   "execution_count": 22
  },
  {
   "cell_type": "code",
   "outputs": [
    {
     "name": "stderr",
     "output_type": "stream",
     "text": [
      "/tmp/ipykernel_197957/2203347747.py:12: SettingWithCopyWarning: \n",
      "A value is trying to be set on a copy of a slice from a DataFrame.\n",
      "Try using .loc[row_indexer,col_indexer] = value instead\n",
      "\n",
      "See the caveats in the documentation: https://pandas.pydata.org/pandas-docs/stable/user_guide/indexing.html#returning-a-view-versus-a-copy\n",
      "  df['delta_lambda'] = df['lambda_lv_1'] - df['lambda_lv_0']\n",
      "/tmp/ipykernel_197957/2203347747.py:13: SettingWithCopyWarning: \n",
      "A value is trying to be set on a copy of a slice from a DataFrame.\n",
      "Try using .loc[row_indexer,col_indexer] = value instead\n",
      "\n",
      "See the caveats in the documentation: https://pandas.pydata.org/pandas-docs/stable/user_guide/indexing.html#returning-a-view-versus-a-copy\n",
      "  df['delta_lambda'] = df['delta_lambda'].apply(lambda x : 0 if x < 0 else x)\n"
     ]
    },
    {
     "data": {
      "text/plain": "<Figure size 640x480 with 1 Axes>",
      "image/png": "[encoded data removed]"
     },
     "metadata": {},
     "output_type": "display_data"
    }
   ],
   "source": [
    "evaluate_pipeline(df=df_1, n_neighbor=6)"
   ],
   "metadata": {
    "collapsed": false,
    "ExecuteTime": {
     "end_time": "2024-02-22T22:09:36.265846720Z",
     "start_time": "2024-02-22T22:09:35.850035307Z"
    }
   },
   "execution_count": 29
  },
  {
   "cell_type": "code",
   "outputs": [
    {
     "name": "stderr",
     "output_type": "stream",
     "text": [
      "/tmp/ipykernel_197957/2203347747.py:12: SettingWithCopyWarning: \n",
      "A value is trying to be set on a copy of a slice from a DataFrame.\n",
      "Try using .loc[row_indexer,col_indexer] = value instead\n",
      "\n",
      "See the caveats in the documentation: https://pandas.pydata.org/pandas-docs/stable/user_guide/indexing.html#returning-a-view-versus-a-copy\n",
      "  df['delta_lambda'] = df['lambda_lv_1'] - df['lambda_lv_0']\n",
      "/tmp/ipykernel_197957/2203347747.py:13: SettingWithCopyWarning: \n",
      "A value is trying to be set on a copy of a slice from a DataFrame.\n",
      "Try using .loc[row_indexer,col_indexer] = value instead\n",
      "\n",
      "See the caveats in the documentation: https://pandas.pydata.org/pandas-docs/stable/user_guide/indexing.html#returning-a-view-versus-a-copy\n",
      "  df['delta_lambda'] = df['delta_lambda'].apply(lambda x : 0 if x < 0 else x)\n"
     ]
    },
    {
     "data": {
      "text/plain": "<Figure size 640x480 with 1 Axes>",
      "image/png": "[encoded data removed]"
     },
     "metadata": {},
     "output_type": "display_data"
    }
   ],
   "source": [
    "evaluate_pipeline(df=df_1, n_neighbor=5)"
   ],
   "metadata": {
    "collapsed": false,
    "ExecuteTime": {
     "end_time": "2024-02-22T22:09:51.270334739Z",
     "start_time": "2024-02-22T22:09:50.105021430Z"
    }
   },
   "execution_count": 30
  },
  {
   "cell_type": "code",
   "outputs": [],
   "source": [],
   "metadata": {
    "collapsed": false
   }
  }
 ],
 "metadata": {
  "kernelspec": {
   "display_name": "Python 3",
   "language": "python",
   "name": "python3"
  },
  "language_info": {
   "codemirror_mode": {
    "name": "ipython",
    "version": 2
   },
   "file_extension": ".py",
   "mimetype": "text/x-python",
   "name": "python",
   "nbconvert_exporter": "python",
   "pygments_lexer": "ipython2",
   "version": "2.7.6"
  }
 },
 "nbformat": 4,
 "nbformat_minor": 0
}
