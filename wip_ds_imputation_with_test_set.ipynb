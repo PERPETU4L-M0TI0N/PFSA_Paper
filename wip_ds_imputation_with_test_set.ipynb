{
 "cells": [
  {
   "cell_type": "code",
   "execution_count": null,
   "metadata": {
    "collapsed": true,
    "ExecuteTime": {
     "end_time": "2024-02-22T21:24:54.496699815Z",
     "start_time": "2024-02-22T21:24:54.231055724Z"
    }
   },
   "outputs": [],
   "source": []
  },
  {
   "cell_type": "code",
   "execution_count": 1,
   "outputs": [
    {
     "name": "stderr",
     "output_type": "stream",
     "text": [
      "/var/folders/bx/gzbw6rqj1_dg2cswsj6km8_80000gq/T/ipykernel_48177/1640127863.py:5: DeprecationWarning: \n",
      "Pyarrow will become a required dependency of pandas in the next major release of pandas (pandas 3.0),\n",
      "(to allow more performant data types, such as the Arrow string type, and better interoperability with other libraries)\n",
      "but was not found to be installed on your system.\n",
      "If this would cause problems for you,\n",
      "please provide us feedback at https://github.com/pandas-dev/pandas/issues/54466\n",
      "        \n",
      "  import pandas as pd\n"
     ]
    }
   ],
   "source": [
    "import warnings\n",
    "from typing import List, Tuple, Type\n",
    "\n",
    "import numpy as np\n",
    "import pandas as pd\n",
    "from sklearn.impute import KNNImputer\n",
    "from sklearn.base import BaseEstimator\n",
    "from sklearn.ensemble import RandomForestRegressor\n",
    "from sklearn.model_selection import KFold\n",
    "from sklearn.model_selection import train_test_split\n",
    "import matplotlib.pyplot as plt\n",
    "\n",
    "warnings.filterwarnings('ignore')\n"
   ],
   "metadata": {
    "collapsed": false
   }
  },
  {
   "cell_type": "code",
   "execution_count": 2,
   "outputs": [],
   "source": [
    "def load_data() -> pd.DataFrame:\n",
    "    \"\"\"\n",
    "    Load data to dataframe\n",
    "    \"\"\"\n",
    "    return pd.read_excel('./data/ChemRev_Hydration_Data.xlsx', sheet_name='HydrationData',usecols = 'A:R')"
   ],
   "metadata": {
    "collapsed": false
   }
  },
  {
   "cell_type": "code",
   "execution_count": 3,
   "outputs": [],
   "source": [
    "def data_preparation(df: pd.DataFrame) -> pd.DataFrame:\n",
    "    df = df[df['RH'] >= 95.0]\n",
    "    not_include = ['Cast','LV','RH_r','Pret_Time', 'RH']\n",
    "    df = df.query('Study != \"Alberti\" and EW == 1100')\n",
    "    df = df.query('LV_id in (0, 1)')\n",
    "    df['LV_id'] = df['LV_id'].astype(int)\n",
    "    df = df.drop(not_include, axis=1)\n",
    "    df = df[df['Thickness'].notnull()]\n",
    "    return df"
   ],
   "metadata": {
    "collapsed": false
   }
  },
  {
   "cell_type": "code",
   "execution_count": 4,
   "outputs": [],
   "source": [
    "def unstack_liquid_vapor_datasets(df: pd.DataFrame, fixed_columns: List[str]) -> pd.DataFrame:\n",
    "    \"\"\"\n",
    "    Input DataFrame:\n",
    "        ...fixed_columns..., LV_id, lambda\n",
    "\n",
    "    Output DataFrame:\n",
    "        ...fixed_columns..., lambda_lv_0, lambda_lv_1\n",
    "\n",
    "    example for fixed_columns: [EW, Thickness, PT, Cast_id, Drying_Temp, Equilibrium_hr, Temperature, RH]\n",
    "    \"\"\"\n",
    "    agg_columns = fixed_columns + ['LV_id']\n",
    "    df_agg = df[agg_columns + ['lambda']].groupby(agg_columns).mean()\n",
    "    df_agg = df_agg.drop_duplicates().reset_index()\n",
    "    df_wide = df_agg.set_index(fixed_columns + ['LV_id']).unstack('LV_id')\n",
    "    df_wide.columns = [f'{col[0]}_lv_{col[1]}' for col in df_wide.columns]\n",
    "    df_wide = df_wide.reset_index()\n",
    "    return df_wide"
   ],
   "metadata": {
    "collapsed": false
   }
  },
  {
   "cell_type": "code",
   "execution_count": 5,
   "outputs": [],
   "source": [
    "def data_set_cases(df: pd.DataFrame) -> Tuple[pd.DataFrame, pd.DataFrame]:\n",
    "    \"\"\"\n",
    "    Create 2 sub data sets for the purpose of investigating which works better for downstream analysis.\n",
    "\n",
    "    Data set 1: Remove Equilibrium_hr column entirely\n",
    "\n",
    "    Data set 2: Keep Equilibrium_hr column, but eliminate all null entry records\n",
    "    \"\"\"\n",
    "    df_1_columns = df.columns.values.tolist()\n",
    "    df_1_columns.remove('Equilibrium_hr')\n",
    "    df_1 = df[df_1_columns]\n",
    "    df_2 = df[df['Equilibrium_hr'].notnull()]\n",
    "\n",
    "    return df_1, df_2"
   ],
   "metadata": {
    "collapsed": false
   }
  },
  {
   "cell_type": "code",
   "execution_count": 6,
   "outputs": [],
   "source": [
    "def knn_impute(df: pd.DataFrame, exclude_columns: List, **params) -> pd.DataFrame:\n",
    "    \"\"\"\n",
    "    Perform KNN imputation while excluding specified columns.\n",
    "    \"\"\"\n",
    "\n",
    "    qualifying_parameters = ['n_neighbors', 'weights']\n",
    "    knn_params = {k: params[k] for k in qualifying_parameters if k in params}\n",
    "\n",
    "    knn_imputer = KNNImputer(**knn_params)\n",
    "    df_copy = df.copy()\n",
    "    # fit_columns = [_column for _column in df_copy.columns.values if _column not in exclude_columns]\n",
    "    df_copy = df_copy.drop(exclude_columns, axis=1)\n",
    "\n",
    "    df_copy = pd.DataFrame(knn_imputer.fit_transform(df_copy), columns=df_copy.columns)\n",
    "    for _column in exclude_columns:\n",
    "        df_copy[_column] = df[_column]\n",
    "\n",
    "    return df_copy"
   ],
   "metadata": {
    "collapsed": false
   }
  },
  {
   "cell_type": "code",
   "execution_count": 7,
   "outputs": [],
   "source": [
    "def impute_lambda_lv(df: pd.DataFrame, **params) -> pd.DataFrame:\n",
    "    \"\"\"\n",
    "    Perform the specific imputation of lambda_lv_0 and lambda_lv_1\n",
    "    \"\"\"\n",
    "    df_imputed = knn_impute(df=df, exclude_columns=['lambda_lv_0'], **params)\n",
    "    df_imputed = knn_impute(df=df_imputed, exclude_columns=['lambda_lv_1'], **params)\n",
    "    return df_imputed"
   ],
   "metadata": {
    "collapsed": false
   }
  },
  {
   "cell_type": "code",
   "execution_count": 8,
   "outputs": [],
   "source": [
    "def compute_performance_metric_delta_lambda(df: pd.DataFrame) -> pd.DataFrame:\n",
    "    \"\"\"\n",
    "    Input:\n",
    "    DataFrame with columns\n",
    "        ...predictors..., RH, lambda_lv_1, lambda_lv_0\n",
    "\n",
    "    Output:\n",
    "        DataFrame with columns\n",
    "        ...predictors..., delta_lambda\n",
    "    \"\"\"\n",
    "    if 'RH' in df.columns.values:\n",
    "        df = df[df['RH'] >= 95.0]\n",
    "        df = df.drop('RH', axis=1)\n",
    "    df['delta_lambda'] = df['lambda_lv_1'] - df['lambda_lv_0']\n",
    "    df['delta_lambda'] = df['delta_lambda'].apply(lambda x : 0 if x < 0 else x)\n",
    "    return df"
   ],
   "metadata": {
    "collapsed": false
   }
  },
  {
   "cell_type": "code",
   "execution_count": 9,
   "outputs": [],
   "source": [
    "def create_train_test_set(df: pd.DataFrame, **params) -> pd.DataFrame:\n",
    "\n",
    "    fixed_columns = [_c for _c in ['Thickness', 'PT', 'Cast_id', 'Drying_Temp', 'Equilibrium_hr', 'Temperature'] if _c in df.columns.values.tolist()]\n",
    "    df_unstacked = unstack_liquid_vapor_datasets(df=df, fixed_columns=fixed_columns)\n",
    "\n",
    "    df_test = df_unstacked.dropna()\n",
    "    df_train = df_unstacked.copy()\n",
    "    df_train['is_train'] = df_train.apply(lambda row: np.isnan(row['lambda_lv_0']) or np.isnan(row['lambda_lv_1']), axis=1)\n",
    "    df_train = df_train[df_train['is_train']]\n",
    "    df_train = df_train.drop('is_train', axis=1)\n",
    "    df_train = impute_lambda_lv(df_train, **params)\n",
    "\n",
    "    df_train = compute_performance_metric_delta_lambda(df_train)\n",
    "    df_test = compute_performance_metric_delta_lambda(df_test)\n",
    "\n",
    "\n",
    "    return df_train, df_test"
   ],
   "metadata": {
    "collapsed": false
   }
  },
  {
   "cell_type": "code",
   "execution_count": 10,
   "outputs": [],
   "source": [
    "def compute_performance_metric_delta_lambda(df: pd.DataFrame) -> pd.DataFrame:\n",
    "    \"\"\"\n",
    "    Input:\n",
    "    DataFrame with columns\n",
    "        ...predictors..., RH, lambda_lv_1, lambda_lv_0\n",
    "\n",
    "    Output:\n",
    "        DataFrame with columns\n",
    "        ...predictors..., delta_lambda\n",
    "    \"\"\"\n",
    "    if 'RH' in df.columns.values:\n",
    "        df = df[df['RH'] >= 95.0]\n",
    "        df.drop('RH', axis=1)\n",
    "    df['delta_lambda'] = df['lambda_lv_1'] - df['lambda_lv_0']\n",
    "    df['delta_lambda'] = df['delta_lambda'].apply(lambda x : 0 if x < 0 else x)\n",
    "    return df"
   ],
   "metadata": {
    "collapsed": false
   }
  },
  {
   "cell_type": "code",
   "execution_count": 11,
   "outputs": [],
   "source": [
    "def train_evaluate_model(df_train: pd.DataFrame, df_test: pd.DataFrame, regressor_class: Type[BaseEstimator], y_column: str = 'delta_lambda', plot: bool = True):\n",
    "\n",
    "    y_train = df_train[y_column].values\n",
    "    y_test = df_test[y_column].values\n",
    "    x_columns = [_x for _x in df_train.columns.values if _x != y_column]\n",
    "    x_train = df_train[x_columns].values\n",
    "    x_test = df_test[x_columns].values\n",
    "\n",
    "    rg = regressor_class()\n",
    "    rg.fit(x_train, y_train)\n",
    "    y_hat = rg.predict(x_test)\n",
    "    score = rg.score(x_test, y_test)\n",
    "\n",
    "    if plot:\n",
    "        plt.scatter(y_test, y_hat)\n",
    "        plt.title(f\"Predicted vs. actual : {y_column} -- score: {score}\")\n",
    "\n",
    "    return score"
   ],
   "metadata": {
    "collapsed": false
   }
  },
  {
   "cell_type": "code",
   "execution_count": 12,
   "outputs": [
    {
     "data": {
      "text/plain": "0.729420186398868"
     },
     "execution_count": 12,
     "metadata": {},
     "output_type": "execute_result"
    },
    {
     "data": {
      "text/plain": "<Figure size 640x480 with 1 Axes>",
      "image/png": "[encoded data removed]"
     },
     "metadata": {},
     "output_type": "display_data"
    }
   ],
   "source": [
    "df = load_data()\n",
    "df = data_preparation(df)\n",
    "df_1, df_2 = data_set_cases(df)\n",
    "df_train_1, df_test_1 = create_train_test_set(df_1)\n",
    "train_evaluate_model(df_train=df_train_1, df_test=df_test_1, regressor_class=RandomForestRegressor, y_column='delta_lambda')"
   ],
   "metadata": {
    "collapsed": false
   }
  },
  {
   "cell_type": "code",
   "execution_count": 13,
   "outputs": [
    {
     "data": {
      "text/plain": "Text(0, 0.5, 'score')"
     },
     "execution_count": 13,
     "metadata": {},
     "output_type": "execute_result"
    },
    {
     "data": {
      "text/plain": "<Figure size 640x480 with 1 Axes>",
      "image/png": "[encoded data removed]"
     },
     "metadata": {},
     "output_type": "display_data"
    }
   ],
   "source": [
    "n_neighbors = []\n",
    "scores = []\n",
    "\n",
    "for _ in range(10):\n",
    "    for n_neighbor in range(3, 16):\n",
    "        df = load_data()\n",
    "        df = data_preparation(df)\n",
    "        df_1, _ = data_set_cases(df)\n",
    "        df_train_1, df_test_1 = create_train_test_set(df_1, n_neighbor=n_neighbor)\n",
    "        score = train_evaluate_model(df_train=df_train_1, df_test=df_test_1, regressor_class=RandomForestRegressor, y_column='delta_lambda', plot=False)\n",
    "        n_neighbors.append(n_neighbor)\n",
    "        scores.append(score)\n",
    "\n",
    "plt.scatter(n_neighbors, scores)\n",
    "plt.xlabel(\"n_neighbor\")\n",
    "plt.ylabel(\"score\")"
   ],
   "metadata": {
    "collapsed": false
   }
  },
  {
   "cell_type": "code",
   "execution_count": 13,
   "outputs": [],
   "source": [],
   "metadata": {
    "collapsed": false
   }
  }
 ],
 "metadata": {
  "kernelspec": {
   "display_name": "Python 3",
   "language": "python",
   "name": "python3"
  },
  "language_info": {
   "codemirror_mode": {
    "name": "ipython",
    "version": 2
   },
   "file_extension": ".py",
   "mimetype": "text/x-python",
   "name": "python",
   "nbconvert_exporter": "python",
   "pygments_lexer": "ipython2",
   "version": "2.7.6"
  }
 },
 "nbformat": 4,
 "nbformat_minor": 0
}
